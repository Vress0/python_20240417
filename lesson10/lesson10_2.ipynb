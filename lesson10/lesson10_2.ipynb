{
 "cells": [
  {
   "cell_type": "code",
   "execution_count": 3,
   "metadata": {},
   "outputs": [
    {
     "data": {
      "text/plain": [
       "['林希啟', '馬彥文', '沈心利']"
      ]
     },
     "execution_count": 3,
     "metadata": {},
     "output_type": "execute_result"
    }
   ],
   "source": [
    "import random\n",
    "\n",
    "with open('names.txt',encoding='utf-8') as file:\n",
    "    content:str = file.read()\n",
    "\n",
    "names:list[str] = content.split(sep='\\n')\n",
    "\n",
    "random.choices(population=names,k=3)"
   ]
  },
  {
   "cell_type": "code",
   "execution_count": 1,
   "metadata": {},
   "outputs": [
    {
     "name": "stdout",
     "output_type": "stream",
     "text": [
      "請輸入取得名字的數量\n",
      "黃旻林 蕭淑華 楊健麟 陳奇瑄 周怡啟 "
     ]
    }
   ],
   "source": [
    "import random\n",
    "import pyinputplus as pyip\n",
    "\n",
    "with open('names.txt',encoding='utf-8') as file:\n",
    "    content:str = file.read()\n",
    "\n",
    "n:int = pyip.inputInt(\"請輸入取得名字的數量\",min=0,max=200)\n",
    "print()\n",
    "names:list[str] = content.split(sep='\\n')\n",
    "random_names:list[str] = random.choices(population=names,k=n)\n",
    "for name in random_names:\n",
    "    print(name,end=' ')\n"
   ]
  }
 ],
 "metadata": {
  "kernelspec": {
   "display_name": "Python 3",
   "language": "python",
   "name": "python3"
  },
  "language_info": {
   "codemirror_mode": {
    "name": "ipython",
    "version": 3
   },
   "file_extension": ".py",
   "mimetype": "text/x-python",
   "name": "python",
   "nbconvert_exporter": "python",
   "pygments_lexer": "ipython3",
   "version": "3.10.14"
  }
 },
 "nbformat": 4,
 "nbformat_minor": 2
}
