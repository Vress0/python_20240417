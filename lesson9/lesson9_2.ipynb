{
 "cells": [
  {
   "cell_type": "code",
   "execution_count": 2,
   "metadata": {},
   "outputs": [
    {
     "name": "stdout",
     "output_type": "stream",
     "text": [
      "你的姓名是：沅\n",
      "國文：99\n",
      "英文：89\n",
      "數學：100\n",
      "\n"
     ]
    }
   ],
   "source": [
    "class Student():\n",
    "    def __init__(self,n:str,c:int,e:int,m:int):\n",
    "        super().__init__()\n",
    "        self.name = n #attribute\n",
    "        self.chinese = c #attribute\n",
    "        self.english = e #attribute\n",
    "        self.math = m #attribute\n",
    "\n",
    "    def __repr__(self):\n",
    "        message = f\"你的姓名是：{self.name}\\n\"\n",
    "        message += f\"國文：{self.chinese}\\n\"\n",
    "        message += f\"英文：{self.english}\\n\"\n",
    "        message += f\"數學：{self.math}\\n\"\n",
    "        return message\n",
    "\n",
    "s1 = Student(n=\"沅\",c=99,e=89,m=100)\n",
    "print(s1)"
   ]
  },
  {
   "cell_type": "code",
   "execution_count": 3,
   "metadata": {},
   "outputs": [],
   "source": [
    "#property\n",
    "class Student():\n",
    "    def __init__(self,n:str,c:int,e:int,m:int):\n",
    "        super().__init__()\n",
    "        self.name = n #attribute\n",
    "        self.chinese = c #attribute\n",
    "        self.english = e #attribute\n",
    "        self.math = m #attribute\n",
    "\n",
    "    def __repr__(self):\n",
    "        message = f\"你的姓名是：{self.name}\\n\"\n",
    "        message += f\"國文：{self.chinese}\\n\"\n",
    "        message += f\"英文：{self.english}\\n\"\n",
    "        message += f\"數學：{self.math}\\n\"\n",
    "        return message\n",
    "    \n",
    "    #建立property的語法\n",
    "    @property\n",
    "    def sum(self):\n",
    "        return self.chinese + self.english + self.math\n",
    "    "
   ]
  },
  {
   "cell_type": "code",
   "execution_count": 3,
   "metadata": {},
   "outputs": [
    {
     "name": "stdout",
     "output_type": "stream",
     "text": [
      "你的姓名是：沅\n",
      "國文：99\n",
      "英文：89\n",
      "數學：100\n",
      "\n",
      "總分為：288\n",
      "=======================\n",
      "你的姓名是：Ryan\n",
      "國文：100\n",
      "英文：100\n",
      "數學：100\n",
      "\n",
      "總分為：300\n"
     ]
    }
   ],
   "source": [
    "s1 = Student(n=\"沅\",c=99,e=89,m=100)\n",
    "print(s1)\n",
    "print(f\"總分為：{s1.sum}\")\n",
    "print(\"=======================\")\n",
    "\n",
    "s2 = Student(n=\"Ryan\",c=100,e=100,m=100)\n",
    "print(s2)\n",
    "print(f\"總分為：{s2.sum}\")"
   ]
  },
  {
   "cell_type": "code",
   "execution_count": 1,
   "metadata": {},
   "outputs": [],
   "source": [
    "#property\n",
    "class Student():\n",
    "    def __init__(self,n:str,c:int,e:int,m:int):\n",
    "        super().__init__()\n",
    "        self.name = n #attribute\n",
    "        self.chinese = c #attribute\n",
    "        self.english = e #attribute\n",
    "        self.math = m #attribute\n",
    "\n",
    "    def __repr__(self):\n",
    "        message = f\"你的姓名是：{self.name}\\n\"\n",
    "        message += f\"國文：{self.chinese}\\n\"\n",
    "        message += f\"英文：{self.english}\\n\"\n",
    "        message += f\"數學：{self.math}\\n\"\n",
    "        return message\n",
    "    \n",
    "    #建立property的語法\n",
    "    @property\n",
    "    def sum(self):\n",
    "        return self.chinese + self.english + self.math\n",
    "     \n",
    "    #建立實體方法\n",
    "    def average(self)->float:\n",
    "        return self.sum / 3\n"
   ]
  },
  {
   "cell_type": "code",
   "execution_count": 2,
   "metadata": {},
   "outputs": [
    {
     "name": "stdout",
     "output_type": "stream",
     "text": [
      "你的姓名是：沅\n",
      "國文：99\n",
      "英文：89\n",
      "數學：100\n",
      "\n",
      "總分為：288\n",
      "平均為：96.0\n",
      "=======================\n",
      "你的姓名是：Ryan\n",
      "國文：100\n",
      "英文：100\n",
      "數學：100\n",
      "\n",
      "總分為：300\n",
      "平均為：100.0\n"
     ]
    }
   ],
   "source": [
    "s1 = Student(n=\"沅\",c=99,e=89,m=100)\n",
    "print(s1)\n",
    "print(f\"總分為：{s1.sum}\")\n",
    "print(f\"平均為：{s1.average():.2f}\")\n",
    "print(\"=======================\")\n",
    "\n",
    "s2 = Student(n=\"Ryan\",c=100,e=100,m=100)\n",
    "print(s2)\n",
    "print(f\"總分為：{s2.sum}\")\n",
    "print(f\"平均為：{s2.average():.2f}\")\n"
   ]
  }
 ],
 "metadata": {
  "kernelspec": {
   "display_name": "Python 3",
   "language": "python",
   "name": "python3"
  },
  "language_info": {
   "codemirror_mode": {
    "name": "ipython",
    "version": 3
   },
   "file_extension": ".py",
   "mimetype": "text/x-python",
   "name": "python",
   "nbconvert_exporter": "python",
   "pygments_lexer": "ipython3",
   "version": "3.10.14"
  }
 },
 "nbformat": 4,
 "nbformat_minor": 2
}
