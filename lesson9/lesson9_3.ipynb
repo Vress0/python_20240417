{
 "cells": [
  {
   "cell_type": "code",
   "execution_count": 2,
   "metadata": {},
   "outputs": [
    {
     "name": "stdout",
     "output_type": "stream",
     "text": [
      "Student(name='沅', chinese=100, english=99, math=100)\n",
      "總分為：299\n",
      "平均為：99.67\n",
      "=======================\n"
     ]
    }
   ],
   "source": [
    "from dataclasses import dataclass\n",
    "\n",
    "@dataclass\n",
    "class Student():\n",
    "    name: str       #叫欄位，不是attribute\n",
    "    chinese: int\n",
    "    english: int\n",
    "    math: int\n",
    "\n",
    "    @property\n",
    "    def sum(self):\n",
    "        return self.chinese+self.english+self.math\n",
    "    \n",
    "    def average(self)->float:\n",
    "        return self.sum/ 3\n",
    "    \n",
    "s1 = Student(\"沅\",100,99,100)\n",
    "print(s1)\n",
    "print(f\"總分為：{s1.sum}\")\n",
    "print(f\"平均為：{s1.average():.2f}\")\n",
    "print(\"=======================\")"
   ]
  }
 ],
 "metadata": {
  "kernelspec": {
   "display_name": "Python 3",
   "language": "python",
   "name": "python3"
  },
  "language_info": {
   "codemirror_mode": {
    "name": "ipython",
    "version": 3
   },
   "file_extension": ".py",
   "mimetype": "text/x-python",
   "name": "python",
   "nbconvert_exporter": "python",
   "pygments_lexer": "ipython3",
   "version": "3.10.14"
  }
 },
 "nbformat": 4,
 "nbformat_minor": 2
}
