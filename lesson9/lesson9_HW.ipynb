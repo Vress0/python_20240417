{
 "cells": [
  {
   "cell_type": "code",
   "execution_count": 23,
   "metadata": {},
   "outputs": [
    {
     "name": "stdout",
     "output_type": "stream",
     "text": [
      "Ryan您好:\n",
      "您的BMI值是:23.15\n",
      "您的體重:正常\n"
     ]
    }
   ],
   "source": [
    "class BMI():\n",
    "    def __init__(self,n:str,h:float,w:float):\n",
    "        super().__init__()\n",
    "        self.name = n\n",
    "        self.height = h\n",
    "        self.weight = w\n",
    "\n",
    "    def __repr__(self) :\n",
    "        return f'{self.name}您好:'\n",
    "\n",
    "    \n",
    "    @property\n",
    "    def bmi(self):\n",
    "        return self.weight/((self.height/100))**2\n",
    "    \n",
    "    def status(self) -> str:\n",
    "        if self.bmi < 18.5:\n",
    "            self.result = '過輕'\n",
    "        elif self.bmi < 24:\n",
    "            self.result = '正常'\n",
    "        elif self.bmi < 27:\n",
    "            self.result = '過重'\n",
    "        elif self.bmi < 30:\n",
    "            self.result = '輕度肥胖'\n",
    "        elif self.bmi < 35:\n",
    "            self.result = '中度肥胖'\n",
    "        else:\n",
    "            self.result = '重度肥胖'\n",
    "        return self.result\n",
    "\n",
    "s1 = BMI(n='Ryan',h=180,w=75)\n",
    "print(s1)\n",
    "print(f'您的BMI值是:{s1.bmi:.2f}')\n",
    "print(f'您的體重:{s1.status()}')\n"
   ]
  },
  {
   "cell_type": "code",
   "execution_count": 28,
   "metadata": {},
   "outputs": [
    {
     "name": "stdout",
     "output_type": "stream",
     "text": [
      "jhg您好:\n",
      "您的bmi值是20.06\n",
      "您的體重:正常\n"
     ]
    }
   ],
   "source": [
    "class BMI:\n",
    "    def __init__(self):\n",
    "        self.name = input(\"請輸入姓名: \")\n",
    "        self.height = float(input(\"請輸入身高(cm): \"))\n",
    "        self.weight = float(input(\"請輸入體重(kg): \"))\n",
    "\n",
    "    @property\n",
    "    def bmi(self):\n",
    "        return self.weight / ((self.height / 100) ** 2)\n",
    "\n",
    "    def status(self) -> str:\n",
    "        bmi_value = self.bmi\n",
    "        if bmi_value < 18.5:\n",
    "            return '過輕'\n",
    "        elif bmi_value < 24:\n",
    "            return '正常'\n",
    "        elif bmi_value < 27:\n",
    "            return '過重'\n",
    "        elif bmi_value < 30:\n",
    "            return '輕度肥胖'\n",
    "        elif bmi_value < 35:\n",
    "            return '中度肥胖'\n",
    "        else:\n",
    "            return '重度肥胖'\n",
    "\n",
    "    def display_info(self):\n",
    "        print(f'{self.name}您好:')\n",
    "        print(f'您的bmi值是{self.bmi:.2f}')\n",
    "        print(f'您的體重:{self.status()}')\n",
    "\n",
    "if __name__ == \"__main__\":\n",
    "    person = BMI()\n",
    "    person.display_info()\n",
    "\n"
   ]
  },
  {
   "cell_type": "code",
   "execution_count": null,
   "metadata": {},
   "outputs": [],
   "source": [
    "import pyinputplus as pyip\n",
    "\n",
    "class BMI():\n",
    "    def __init__(self, name: str, height: float, weight: float):\n",
    "        super().__init__()\n",
    "        self.name = name\n",
    "        self.height = height\n",
    "        self.weight = weight\n",
    "\n",
    "    def __repr__(self):\n",
    "        return f'\\n{self.name}您好:'\n",
    "    \n",
    "    @property\n",
    "    def bmi(self)->float:\n",
    "        return self.weight / (self.height / 100) ** 2\n",
    "    \n",
    "    def status(self) -> str:\n",
    "        if self.bmi < 18.5:\n",
    "            result = '過輕'\n",
    "        elif self.bmi < 24:\n",
    "            result = '正常'\n",
    "        elif self.bmi < 27:\n",
    "            result = '過重'\n",
    "        elif self.bmi < 30:\n",
    "            result = '輕度肥胖'\n",
    "        elif self.bmi < 35:\n",
    "            result = '中度肥胖'\n",
    "        else:\n",
    "            result = '重度肥胖'\n",
    "        return result\n",
    "    \n",
    "name = input('請輸入姓名: ')\n",
    "height = pyip.inputFloat('請輸入身高(cm): ', min=0)\n",
    "weight = pyip.inputFloat('請輸入體重(kg): ', min=0)\n",
    "\n",
    "p1 = BMI(name, height, weight)\n",
    "print(f'{p1}\\n您的BMI值是: {p1.bmi:.2f}\\n您的體重: {p1.status()}\\n')"
   ]
  }
 ],
 "metadata": {
  "kernelspec": {
   "display_name": "Python 3",
   "language": "python",
   "name": "python3"
  },
  "language_info": {
   "codemirror_mode": {
    "name": "ipython",
    "version": 3
   },
   "file_extension": ".py",
   "mimetype": "text/x-python",
   "name": "python",
   "nbconvert_exporter": "python",
   "pygments_lexer": "ipython3",
   "version": "3.10.14"
  }
 },
 "nbformat": 4,
 "nbformat_minor": 2
}
