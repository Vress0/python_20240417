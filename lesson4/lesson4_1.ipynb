{
 "cells": [
  {
   "cell_type": "code",
   "execution_count": 2,
   "metadata": {},
   "outputs": [
    {
     "name": "stdout",
     "output_type": "stream",
     "text": [
      "3\n",
      "3.1\n",
      "3.14\n"
     ]
    }
   ],
   "source": [
    "print(round(3.14159))\n",
    "print(round(3.1415926,ndigits=1)) \n",
    "print(round(3.1415926,ndigits=2)) "
   ]
  },
  {
   "cell_type": "code",
   "execution_count": 3,
   "metadata": {},
   "outputs": [
    {
     "name": "stdout",
     "output_type": "stream",
     "text": [
      "4\n"
     ]
    }
   ],
   "source": [
    "import math\n",
    "print(math.ceil(3.1415926))"
   ]
  },
  {
   "cell_type": "code",
   "execution_count": 4,
   "metadata": {},
   "outputs": [
    {
     "name": "stdout",
     "output_type": "stream",
     "text": [
      "3\n"
     ]
    }
   ],
   "source": [
    "print(math.floor(3.14159))"
   ]
  },
  {
   "cell_type": "code",
   "execution_count": 7,
   "metadata": {},
   "outputs": [
    {
     "name": "stdout",
     "output_type": "stream",
     "text": [
      "50\n"
     ]
    }
   ],
   "source": [
    "n = 10\n",
    "n = n * 5\n",
    "print(n)"
   ]
  },
  {
   "cell_type": "code",
   "execution_count": 8,
   "metadata": {},
   "outputs": [
    {
     "name": "stdout",
     "output_type": "stream",
     "text": [
      "50\n"
     ]
    }
   ],
   "source": [
    "n = 10\n",
    "n *= 5\n",
    "print(n)"
   ]
  },
  {
   "cell_type": "markdown",
   "metadata": {},
   "source": [
    "### 請使用者輸入一個任意數，程式會顯示此數的平方值及立方值"
   ]
  },
  {
   "cell_type": "code",
   "execution_count": 1,
   "metadata": {},
   "outputs": [
    {
     "name": "stdout",
     "output_type": "stream",
     "text": [
      "您輸入的數值是10,平方值是100\n",
      "您輸入的數值是10,立方值是1000\n"
     ]
    }
   ],
   "source": [
    "source_value = eval(input(\"請輸入任意數\"))\n",
    "value = source_value\n",
    "value **= 2\n",
    "print(f\"您輸入的數值是{source_value},平方值是{value}\")\n",
    "value = source_value\n",
    "value **= 3\n",
    "print(f\"您輸入的數值是{source_value},立方值是{value}\")"
   ]
  },
  {
   "cell_type": "code",
   "execution_count": 15,
   "metadata": {},
   "outputs": [
    {
     "name": "stdout",
     "output_type": "stream",
     "text": [
      "您輸入的數值是10,平方值是100\n",
      "您輸入的數值是10,立方值是1000\n"
     ]
    }
   ],
   "source": [
    "value = eval(input(\"請輸入任意數\"))\n",
    "print(f\"您輸入的數值是{value},平方值是{value ** 2}\")\n",
    "print(f\"您輸入的數值是{value},立方值是{value ** 3}\")"
   ]
  },
  {
   "cell_type": "markdown",
   "metadata": {},
   "source": [
    "### 請設計程式 讓使用者輸入三個任意數 程式會顯示3數相加總合(float)"
   ]
  },
  {
   "cell_type": "code",
   "execution_count": 20,
   "metadata": {},
   "outputs": [
    {
     "name": "stdout",
     "output_type": "stream",
     "text": [
      "10 + 10 + 10 = 30\n"
     ]
    }
   ],
   "source": [
    "n1 = eval(input(\"請輸入第一個數\"))\n",
    "n2 = eval(input(\"請輸入第二個數\"))\n",
    "n3 = eval(input(\"請輸入第三個數\"))\n",
    "total = n1 + n2 + n3 \n",
    "print(f\"{n1} + {n2} + {n3} = {round(total,ndigits=2)}\")\n"
   ]
  },
  {
   "cell_type": "markdown",
   "metadata": {},
   "source": [
    "### 請以(複合指定運算子)設計程式 讓使用者輸入三個任意數 程式會顯示3數相加總合(float)\n"
   ]
  },
  {
   "cell_type": "code",
   "execution_count": 31,
   "metadata": {},
   "outputs": [
    {
     "name": "stdout",
     "output_type": "stream",
     "text": [
      "第一個數 = 1.55\n",
      "第二個數 = 8.88888\n",
      "第三個數 = 4.66\n",
      "總和是15.1\n"
     ]
    }
   ],
   "source": [
    "total = 0\n",
    "n = eval(input(\"請輸入第一個數\"))\n",
    "total += n\n",
    "print(f\"第一個數 = {n}\")\n",
    "\n",
    "n = eval(input(\"請輸入第二個數\"))\n",
    "total += n\n",
    "print(f\"第二個數 = {n}\")\n",
    "\n",
    "n = eval(input(\"請輸入第三個數\"))\n",
    "total += n\n",
    "print(f\"第三個數 = {n}\")\n",
    "\n",
    "print(f\"總和是{round(total, ndigits = 2)}\")"
   ]
  },
  {
   "cell_type": "markdown",
   "metadata": {},
   "source": [
    "## 讓使用者輸入直角三角形的對邊\n",
    "## 讓使用者輸入直角三角形的斜邊\n",
    "## 計算角度\n",
    "## 公式:\n",
    "sin(x) = 對邊 / 斜邊\n",
    "\n",
    "x是radian(弧度)"
   ]
  },
  {
   "cell_type": "code",
   "execution_count": 1,
   "metadata": {},
   "outputs": [
    {
     "name": "stdout",
     "output_type": "stream",
     "text": [
      "角度為30.0度\n"
     ]
    }
   ],
   "source": [
    "import math\n",
    "side = eval(input(\"請輸入對邊\"))\n",
    "ano_side = eval(input(\"請輸入斜邊\"))\n",
    "\n",
    "radian = math.asin(side / ano_side)\n",
    "degree = round(math.degrees(radian),ndigits=2)      ##弧度換角度\n",
    "print(f\"角度為{degree}度\")\n"
   ]
  },
  {
   "cell_type": "code",
   "execution_count": 6,
   "metadata": {},
   "outputs": [
    {
     "name": "stdout",
     "output_type": "stream",
     "text": [
      "面積是15.0\n"
     ]
    }
   ],
   "source": [
    "n1 = eval(input(\"請輸入梯形的上底\"))\n",
    "n2 = eval(input(\"請輸入梯形的下底\"))\n",
    "n3 = eval(input(\"請輸入梯形的高\"))\n",
    "area = (n1 + n2)*n3/2\n",
    "print(f\"面積是{round(area,ndigits=2)}\")"
   ]
  }
 ],
 "metadata": {
  "kernelspec": {
   "display_name": "Python 3",
   "language": "python",
   "name": "python3"
  },
  "language_info": {
   "codemirror_mode": {
    "name": "ipython",
    "version": 3
   },
   "file_extension": ".py",
   "mimetype": "text/x-python",
   "name": "python",
   "nbconvert_exporter": "python",
   "pygments_lexer": "ipython3",
   "version": "3.10.16"
  }
 },
 "nbformat": 4,
 "nbformat_minor": 2
}
