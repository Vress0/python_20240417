{
 "cells": [
  {
   "cell_type": "code",
   "execution_count": 2,
   "metadata": {},
   "outputs": [
    {
     "name": "stdout",
     "output_type": "stream",
     "text": [
      "==================猜數字遊戲=====================\n",
      "\n",
      "猜數字遊戲範圍1~100:50\n",
      "猜錯了\n",
      "再大一點\n",
      "您已經猜了1次\n",
      "猜數字遊戲範圍51~100:75\n",
      "猜錯了\n",
      "再大一點\n",
      "您已經猜了2次\n",
      "猜數字遊戲範圍76~100:66\n",
      "猜錯了\n",
      "再大一點\n",
      "您已經猜了3次\n",
      "猜數字遊戲範圍67~100:80\n",
      "猜錯了\n",
      "再小一點\n",
      "您已經猜了4次\n",
      "猜數字遊戲範圍67~79:76\n",
      "賓果!猜對了,答案是:76\n",
      "您總共猜了5次\n",
      "遊戲結束\n"
     ]
    }
   ],
   "source": [
    "import random\n",
    "import pyinputplus as pyip\n",
    "\n",
    "min = 1\n",
    "max = 100\n",
    "count = 0\n",
    "target = random.randint(min,max)\n",
    "print(\"==================猜數字遊戲=====================\\n\")\n",
    "while True:\n",
    "    count += 1\n",
    "    keyin = pyip.inputInt(f\"猜數字遊戲範圍{min}~{max}:\")\n",
    "    print(keyin)\n",
    "    if keyin == target:\n",
    "        print(f\"賓果!猜對了,答案是:{target}\")\n",
    "        print(f\"您總共猜了{count}次\")\n",
    "        break\n",
    "    elif(keyin > target):\n",
    "        print(\"猜錯了\")\n",
    "        print(\"再小一點\")\n",
    "        max = keyin - 1\n",
    "        \n",
    "    elif(keyin < target):\n",
    "        print(\"猜錯了\")\n",
    "        print(\"再大一點\")\n",
    "        min = keyin + 1\n",
    "    print(f\"您已經猜了{count}次\")\n",
    "\n",
    "print(\"遊戲結束\")\n",
    "    "
   ]
  },
  {
   "cell_type": "code",
   "execution_count": 3,
   "metadata": {},
   "outputs": [
    {
     "name": "stdout",
     "output_type": "stream",
     "text": [
      "=========猜數字遊戲============\n",
      "\n",
      "猜數字的範圍1~100:50\n",
      "再小一點\n",
      "您已經猜了1次\n",
      "猜數字的範圍1~49:25\n",
      "再小一點\n",
      "您已經猜了2次\n",
      "猜數字的範圍1~24:12\n",
      "再小一點\n",
      "您已經猜了3次\n",
      "猜數字的範圍1~11:5\n",
      "再大一點\n",
      "您已經猜了4次\n",
      "猜數字的範圍6~11:6\n",
      "再大一點\n",
      "您已經猜了5次\n",
      "猜數字的範圍7~11:6\n",
      "再大一點\n",
      "您已經猜了6次\n",
      "猜數字的範圍7~11:7\n",
      "再大一點\n",
      "您已經猜了7次\n",
      "猜數字的範圍8~11:8\n",
      "賓果!猜對了, 答案是:8\n",
      "您總共猜了8次\n",
      "遊戲結束\n"
     ]
    }
   ],
   "source": [
    "import random\n",
    "import pyinputplus as pyip\n",
    "\n",
    "min = 1\n",
    "max = 100\n",
    "count = 0\n",
    "target = random.randint(min,max)\n",
    "print(\"=========猜數字遊戲============\\n\")\n",
    "while True:\n",
    "    count += 1\n",
    "    keyin = pyip.inputInt(f\"猜數字的範圍{min}~{max}:\")\n",
    "    print(keyin)\n",
    "    if keyin == target:\n",
    "        print(f\"賓果!猜對了, 答案是:{target}\")\n",
    "        print(f\"您總共猜了{count}次\")\n",
    "        break\n",
    "    elif(keyin > target):        \n",
    "        print(\"再小一點\")\n",
    "        max = keyin-1        \n",
    "    elif(keyin < target):\n",
    "        print(\"再大一點\")\n",
    "        min = keyin + 1\n",
    "    print(f'您已經猜了{count}次')\n",
    "\n",
    "print(\"遊戲結束\")"
   ]
  }
 ],
 "metadata": {
  "kernelspec": {
   "display_name": "Python 3",
   "language": "python",
   "name": "python3"
  },
  "language_info": {
   "codemirror_mode": {
    "name": "ipython",
    "version": 3
   },
   "file_extension": ".py",
   "mimetype": "text/x-python",
   "name": "python",
   "nbconvert_exporter": "python",
   "pygments_lexer": "ipython3",
   "version": "3.10.14"
  }
 },
 "nbformat": 4,
 "nbformat_minor": 2
}
