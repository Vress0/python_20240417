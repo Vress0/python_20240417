{
 "cells": [
  {
   "cell_type": "code",
   "execution_count": 1,
   "metadata": {},
   "outputs": [
    {
     "name": "stdout",
     "output_type": "stream",
     "text": [
      "ryan, 您的BMI: 23.37\n",
      "正常\n"
     ]
    }
   ],
   "source": [
    "try:\n",
    "    name = input('請輸入姓名:')\n",
    "    height = float(input('請輸入身高(120~230)(cm):')) \n",
    "    if height<120 or height>230:\n",
    "        raise Exception(\"身高必需大於120同時小於230\")    \n",
    "    weight = float(input('請輸入體重(40~170)(kg):'))\n",
    "    if weight<40 or weight>170:\n",
    "        raise Exception(\"體重必需大於40同時小於170\")\n",
    "    bmi = weight / (height / 100) ** 2\n",
    "    print(f'{name}, 您的BMI: {round(bmi,ndigits=2)}')\n",
    "    if bmi < 18.5:\n",
    "        print(\"體重過輕\")\n",
    "    elif 18.5 <= bmi <24:\n",
    "        print(\"正常\")\n",
    "    elif 24 <= bmi <27:\n",
    "        print(\"過重\")\n",
    "    elif 27 <= bmi < 30:\n",
    "        print(\"輕度肥胖\")\n",
    "    elif 30 <= bmi < 35:\n",
    "        print(\"中度肥胖\")\n",
    "    else :\n",
    "        print(\"重度肥胖\")\n",
    "except Exception as e:\n",
    "    print(f'錯誤: {e}')"
   ]
  },
  {
   "cell_type": "code",
   "execution_count": 2,
   "metadata": {},
   "outputs": [
    {
     "name": "stdout",
     "output_type": "stream",
     "text": [
      "錯誤: could not convert string to float: 'dfd'\n"
     ]
    }
   ],
   "source": [
    "try:\n",
    "    name = input('請輸入姓名:')\n",
    "    height = float(input('請輸入身高(120~230)(cm):')) \n",
    "    if height<120 or height>230:\n",
    "        raise Exception(\"身高必需大於120同時小於230\")    \n",
    "    weight = float(input('請輸入體重(40~170)(kg):'))\n",
    "    if weight<40 or weight>170:\n",
    "        raise Exception(\"體重必需大於40同時小於170\")\n",
    "    bmi = weight / (height / 100) ** 2\n",
    "    print(f'{name}, 您的BMI: {round(bmi,ndigits=2)}')\n",
    "except Exception as e:\n",
    "    print(f'錯誤: {e}')\n",
    "else:\n",
    "    if bmi < 18.5:\n",
    "        print(\"體重過輕\")\n",
    "    elif 18.5 <= bmi <24:\n",
    "        print(\"正常\")\n",
    "    elif 24 <= bmi <27:\n",
    "        print(\"過重\")\n",
    "    elif 27 <= bmi < 30:\n",
    "        print(\"輕度肥胖\")\n",
    "    elif 30 <= bmi < 35:\n",
    "        print(\"中度肥胖\")\n",
    "    else :\n",
    "        print(\"重度肥胖\")"
   ]
  },
  {
   "cell_type": "markdown",
   "metadata": {},
   "source": [
    "### -----------------------------------------------------------------------------------------"
   ]
  },
  {
   "cell_type": "code",
   "execution_count": 1,
   "metadata": {},
   "outputs": [
    {
     "name": "stdout",
     "output_type": "stream",
     "text": [
      "請輸入姓名:請輸入身高(120~230)(cm):請輸入體重(40~170)(kg):Number must be at maximum 170.\n",
      "請輸入體重(40~170)(kg):yud, 您的BMI: 26.63\n"
     ]
    }
   ],
   "source": [
    "import pyinputplus as pyip\n",
    "\n",
    "name = pyip.inputStr(\"請輸入姓名:\")\n",
    "height = pyip.inputFloat(\"請輸入身高(120~230)(cm):\",min = 120, max = 230)\n",
    "weight = pyip.inputFloat(\"請輸入體重(40~170)(kg):\",min =40, max = 170)\n",
    "\n",
    "bmi = weight / (height / 100) ** 2\n",
    "print(f'{name}, 您的BMI: {round(bmi,ndigits=2)}')"
   ]
  }
 ],
 "metadata": {
  "kernelspec": {
   "display_name": "Python 3",
   "language": "python",
   "name": "python3"
  },
  "language_info": {
   "codemirror_mode": {
    "name": "ipython",
    "version": 3
   },
   "file_extension": ".py",
   "mimetype": "text/x-python",
   "name": "python",
   "nbconvert_exporter": "python",
   "pygments_lexer": "ipython3",
   "version": "3.10.14"
  }
 },
 "nbformat": 4,
 "nbformat_minor": 2
}
