{
 "cells": [
  {
   "cell_type": "code",
   "execution_count": 2,
   "metadata": {},
   "outputs": [
    {
     "data": {
      "text/plain": [
       "20"
      ]
     },
     "execution_count": 2,
     "metadata": {},
     "output_type": "execute_result"
    }
   ],
   "source": [
    "5 + 10\n",
    "5.0 + 10\n",
    "int(\"15\") + 5"
   ]
  },
  {
   "cell_type": "markdown",
   "metadata": {},
   "source": [
    "## 建立變數"
   ]
  },
  {
   "cell_type": "code",
   "execution_count": 10,
   "metadata": {},
   "outputs": [],
   "source": [
    "num1 = 5 + 10\n",
    "num2 = 5.0 + 10\n",
    "num3 = int(\"15\") + 5 "
   ]
  },
  {
   "cell_type": "code",
   "execution_count": 13,
   "metadata": {},
   "outputs": [
    {
     "name": "stdout",
     "output_type": "stream",
     "text": [
      "15\n",
      "15.0\n",
      "20\n"
     ]
    }
   ],
   "source": [
    "print(num1)\n",
    "print(num2)\n",
    "print(num3)"
   ]
  },
  {
   "cell_type": "markdown",
   "metadata": {},
   "source": [
    "##變數名稱\n",
    "\n",
    "-大小寫有分\n",
    "\n",
    "-變數名稱第一個字不可以是數字\n",
    "\n",
    "-特別符號只可以是底線"
   ]
  },
  {
   "cell_type": "code",
   "execution_count": 15,
   "metadata": {},
   "outputs": [
    {
     "data": {
      "text/plain": [
       "15"
      ]
     },
     "execution_count": 15,
     "metadata": {},
     "output_type": "execute_result"
    }
   ],
   "source": [
    "_a1=5\n",
    "_a2=10\n",
    "_a3=_a1+_a2\n",
    "_a3"
   ]
  },
  {
   "cell_type": "markdown",
   "metadata": {},
   "source": [
    "## python使用的是動態型別\n"
   ]
  },
  {
   "cell_type": "code",
   "execution_count": 17,
   "metadata": {},
   "outputs": [
    {
     "name": "stdout",
     "output_type": "stream",
     "text": [
      "<class 'int'>\n"
     ]
    }
   ],
   "source": [
    "n = 10\n",
    "print(type(n))"
   ]
  },
  {
   "cell_type": "markdown",
   "metadata": {},
   "source": [
    "## 每一個變數，心裡都要知道它的型別\n",
    "\n",
    "3.10版以後，有支援型別的提醒\n",
    "\n",
    "type hint\n"
   ]
  },
  {
   "cell_type": "code",
   "execution_count": 19,
   "metadata": {},
   "outputs": [
    {
     "name": "stdout",
     "output_type": "stream",
     "text": [
      "10\n",
      "10.0\n",
      "Ryan\n",
      "True\n"
     ]
    }
   ],
   "source": [
    "n:int = 10\n",
    "n1:float = 10.0\n",
    "name:str = \"Ryan\"\n",
    "is_ok:bool = True\n",
    "\n",
    "print(n)\n",
    "print(n1)\n",
    "print(name)\n",
    "print(is_ok)\n"
   ]
  },
  {
   "cell_type": "markdown",
   "metadata": {},
   "source": [
    "## 字串和變數的整合"
   ]
  },
  {
   "cell_type": "code",
   "execution_count": 20,
   "metadata": {},
   "outputs": [
    {
     "name": "stdout",
     "output_type": "stream",
     "text": [
      "矩形的寬是24.5\n",
      "矩形的高是10.9\n",
      "矩形的面積是267.05\n"
     ]
    }
   ],
   "source": [
    "width:float = 24.5\n",
    "height:float = 10.9\n",
    "area:float = width * height\n",
    "\n",
    "print('矩形的寬是' + str(width))\n",
    "print('矩形的高是' + str(height))\n",
    "print('矩形的面積是' + str(area))"
   ]
  },
  {
   "cell_type": "markdown",
   "metadata": {},
   "source": [
    "## 字串和變數的整合(使用字串插補)"
   ]
  },
  {
   "cell_type": "code",
   "execution_count": 21,
   "metadata": {},
   "outputs": [
    {
     "name": "stdout",
     "output_type": "stream",
     "text": [
      "矩形的寬是24.5\n",
      "矩形的高是10.9\n",
      "矩形的面積是267.05\n",
      "矩形的寬是24.5,矩形的高是10.9,矩形的面積是267.05\n"
     ]
    }
   ],
   "source": [
    "width:float = 24.5\n",
    "height:float = 10.9\n",
    "area:float = width * height\n",
    "\n",
    "print(f'矩形的寬是{width}')\n",
    "print(f'矩形的高是{height}')\n",
    "print(f'矩形的面積是{area}')\n",
    "print(f'矩形的寬是{width},矩形的高是{height},矩形的面積是{area}')"
   ]
  }
 ],
 "metadata": {
  "kernelspec": {
   "display_name": "Python 3",
   "language": "python",
   "name": "python3"
  },
  "language_info": {
   "codemirror_mode": {
    "name": "ipython",
    "version": 3
   },
   "file_extension": ".py",
   "mimetype": "text/x-python",
   "name": "python",
   "nbconvert_exporter": "python",
   "pygments_lexer": "ipython3",
   "version": "3.10.16"
  }
 },
 "nbformat": 4,
 "nbformat_minor": 2
}
