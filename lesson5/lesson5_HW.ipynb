{
 "cells": [
  {
   "cell_type": "code",
   "execution_count": 6,
   "metadata": {},
   "outputs": [
    {
     "name": "stdout",
     "output_type": "stream",
     "text": [
      "格式錯誤:invalid decimal literal (<string>, line 1)\n"
     ]
    }
   ],
   "source": [
    "try:\n",
    "    name:str = str(input(\"請輸入姓名\"))\n",
    "    height:float|int = eval(input(\"請輸入身高(cm))\"))\n",
    "    weight:float|int = eval(input(\"請輸入體重(kg)\"))\n",
    "    BMI = weight / (height/10)**2\n",
    "    print(f\"{name},您的BMI:{BMI}\")\n",
    "except Exception as E:\n",
    "    print(f\"格式錯誤:{E}\")\n"
   ]
  },
  {
   "cell_type": "code",
   "execution_count": 1,
   "metadata": {
    "metadata": {}
   },
   "outputs": [
    {
     "name": "stdout",
     "output_type": "stream",
     "text": [
      "dt,您的BMI:19.91\n"
     ]
    }
   ],
   "source": [
    "try:\n",
    "    name:str = str(input(\"請輸入姓名\"))\n",
    "    height:float|int = float(input(\"請輸入身高(cm))\"))\n",
    "    weight:float|int = float(input(\"請輸入體重(kg)\"))\n",
    "    BMI = weight / (height/100)**2\n",
    "    print(f\"{name},您的BMI:{round(BMI,ndigits=2)}\")\n",
    "except Exception as E:\n",
    "    print(f\"格式錯誤:{E}\")\n",
    "    \n"
   ]
  }
 ],
 "metadata": {
  "kernelspec": {
   "display_name": "Python 3",
   "language": "python",
   "name": "python3"
  },
  "language_info": {
   "codemirror_mode": {
    "name": "ipython",
    "version": 3
   },
   "file_extension": ".py",
   "mimetype": "text/x-python",
   "name": "python",
   "nbconvert_exporter": "python",
   "pygments_lexer": "ipython3",
   "version": "3.10.14"
  }
 },
 "nbformat": 4,
 "nbformat_minor": 2
}
